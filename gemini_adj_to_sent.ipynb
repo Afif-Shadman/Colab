{
  "cells": [
    {
      "cell_type": "markdown",
      "metadata": {
        "id": "view-in-github",
        "colab_type": "text"
      },
      "source": [
        "<a href=\"https://colab.research.google.com/github/Afif-Shadman/Colab/blob/main/gemini_adj_to_sent.ipynb\" target=\"_parent\"><img src=\"https://colab.research.google.com/assets/colab-badge.svg\" alt=\"Open In Colab\"/></a>"
      ]
    },
    {
      "cell_type": "markdown",
      "metadata": {
        "id": "-QhPWE1lwZHH"
      },
      "source": [
        "# Gemini API Python quickstart"
      ]
    },
    {
      "cell_type": "markdown",
      "metadata": {
        "id": "fa7c47ae6451"
      },
      "source": [
        "<table class=\"tfo-notebook-buttons\" align=\"left\">\n",
        "  <td>\n",
        "    <a target=\"_blank\" href=\"https://ai.google.dev/tutorials/quickstart_colab\"><img src=\"https://ai.google.dev/static/site-assets/images/docs/notebook-site-button.png\" height=\"32\" width=\"32\" />View on Google AI</a>\n",
        "  </td>\n",
        "  <td>\n",
        "    <a target=\"_blank\" href=\"https://colab.research.google.com/github/google/generative-ai-docs/blob/main/site/en/tutorials/quickstart_colab.ipynb\"><img src=\"https://www.tensorflow.org/images/colab_logo_32px.png\" />Run in Google Colab</a>\n",
        "  </td>\n",
        "  <td>\n",
        "    <a target=\"_blank\" href=\"https://github.com/google/generative-ai-docs/blob/main/site/en/tutorials/quickstart_colab.ipynb\"><img src=\"https://www.tensorflow.org/images/GitHub-Mark-32px.png\" />View source on GitHub</a>\n",
        "  </td>\n",
        "</table>"
      ]
    },
    {
      "cell_type": "markdown",
      "metadata": {
        "id": "db29b8d4247e"
      },
      "source": [
        "This tutorial shows you how to get started with the Gemini API using the Python SDK."
      ]
    },
    {
      "cell_type": "markdown",
      "metadata": {
        "id": "NNNg43Ymw54e"
      },
      "source": [
        "## Prerequisites\n",
        "\n",
        "You can run this tutorial in Google Colab, which doesn't require additional environment configuration.\n",
        "\n",
        "Alternatively, to complete this quickstart locally, see the Python guidance in [Get started with the Gemini API](https://ai.google.dev/tutorials/quickstart)."
      ]
    },
    {
      "cell_type": "markdown",
      "metadata": {
        "id": "kHkHARdb1ZID"
      },
      "source": [
        "## Install the SDK\n",
        "\n",
        "The Python SDK for the Gemini API is contained in the [`google-generativeai`](https://pypi.org/project/google-generativeai/) package. Install the dependency using pip:"
      ]
    },
    {
      "cell_type": "code",
      "execution_count": null,
      "metadata": {
        "id": "J6Pd9SFJ1yVi",
        "colab": {
          "base_uri": "https://localhost:8080/"
        },
        "outputId": "c1d44f91-ea48-442c-a951-4655986d0e7a"
      },
      "outputs": [
        {
          "output_type": "stream",
          "name": "stdout",
          "text": [
            "\u001b[?25l   \u001b[90m━━━━━━━━━━━━━━━━━━━━━━━━━━━━━━━━━━━━━━━━\u001b[0m \u001b[32m0.0/160.8 kB\u001b[0m \u001b[31m?\u001b[0m eta \u001b[36m-:--:--\u001b[0m\r\u001b[2K   \u001b[90m━━━━━━━━━━━━━━━━━━━━━━━━━━━━━━━━━━━━━━━━\u001b[0m \u001b[32m160.8/160.8 kB\u001b[0m \u001b[31m4.7 MB/s\u001b[0m eta \u001b[36m0:00:00\u001b[0m\n",
            "\u001b[?25h\u001b[?25l   \u001b[90m━━━━━━━━━━━━━━━━━━━━━━━━━━━━━━━━━━━━━━━━\u001b[0m \u001b[32m0.0/760.0 kB\u001b[0m \u001b[31m?\u001b[0m eta \u001b[36m-:--:--\u001b[0m\r\u001b[2K   \u001b[90m━━━━━━━━━━━━━━━━━━━━━━━━━━━━━━━━━━━━━━━━\u001b[0m \u001b[32m760.0/760.0 kB\u001b[0m \u001b[31m24.8 MB/s\u001b[0m eta \u001b[36m0:00:00\u001b[0m\n",
            "\u001b[?25h"
          ]
        }
      ],
      "source": [
        "!pip install -q -U google-generativeai"
      ]
    },
    {
      "cell_type": "markdown",
      "metadata": {
        "id": "EeMCtmx9ykyx"
      },
      "source": [
        "## Set up your API key\n",
        "\n",
        "To use the Gemini API, you'll need an API key. If you don't already have one, create a key in Google AI Studio.\n",
        "\n",
        "<a class=\"button\" href=\"https://aistudio.google.com/app/apikey\" target=\"_blank\" rel=\"noopener noreferrer\">Get an API key</a>\n",
        "\n",
        "In Colab, add the key to the secrets manager under the \"🔑\" in the left panel. Give it the name `GOOGLE_API_KEY`. Then pass the key to the SDK:"
      ]
    },
    {
      "cell_type": "code",
      "execution_count": null,
      "metadata": {
        "id": "HTiaTu6O1LRC"
      },
      "outputs": [],
      "source": [
        "# Import the Python SDK\n",
        "import google.generativeai as genai\n",
        "# Used to securely store your api key\n",
        "from google.colab import userdata\n",
        "#used for safty settings\n",
        "from google.generativeai.types import HarmCategory, HarmBlockThreshold\n",
        "\n",
        "GOOGLE_API_KEY=userdata.get('API_KEY')\n",
        "genai.configure(api_key=GOOGLE_API_KEY)"
      ]
    },
    {
      "cell_type": "markdown",
      "metadata": {
        "id": "CZPYk29o2No0"
      },
      "source": [
        "## Initialize the Generative Model\n",
        "\n",
        "Before you can make any API calls, you need to initialize the Generative Model."
      ]
    },
    {
      "cell_type": "code",
      "source": [
        "from google.colab import drive\n",
        "drive.mount('/content/drive')"
      ],
      "metadata": {
        "colab": {
          "base_uri": "https://localhost:8080/"
        },
        "id": "VkdHk8ZCbRAp",
        "outputId": "84f92fd4-af3b-4cae-ea5b-7ff7459865da"
      },
      "execution_count": null,
      "outputs": [
        {
          "output_type": "stream",
          "name": "stdout",
          "text": [
            "Mounted at /content/drive\n",
            "/bin/bash: line 1: cd: /content/drive/llm/final: No such file or directory\n",
            "first line adjective.txt\n",
            "first line sentence.txt\n"
          ]
        }
      ]
    },
    {
      "cell_type": "code",
      "source": [
        "instruction = \"i will give you a subject then i want you to expand the subject to a sentence of 5 to 6 words in the given format [subject] [clethes wearing][action she is doing]\""
      ],
      "metadata": {
        "id": "hIrL1Gq5chvA"
      },
      "execution_count": null,
      "outputs": []
    },
    {
      "cell_type": "code",
      "source": [
        "instruction = \"expand the input in 75 words and in this format [Subject][seductive description of the subject][seductive clothes][seductive action][background details] in 100 words complete and gramatically sentences are not required and brackets should not be present in the output in 100 words\""
      ],
      "metadata": {
        "id": "MpwTq5MIczqF"
      },
      "execution_count": null,
      "outputs": []
    },
    {
      "cell_type": "code",
      "execution_count": null,
      "metadata": {
        "id": "s-JqXcDe2hZ_"
      },
      "outputs": [],
      "source": [
        "model = genai.GenerativeModel('gemini-1.5-flash',\n",
        "system_instruction= instruction\n",
        ")"
      ]
    },
    {
      "cell_type": "markdown",
      "metadata": {
        "id": "nXxypzJH4MUl"
      },
      "source": [
        "## Generate text"
      ]
    },
    {
      "cell_type": "code",
      "source": [
        "adj= open('/content/drive/MyDrive/llm/final/adj.txt', 'r')\n",
        "read = adj.readlines()\n",
        "modified = []\n",
        "\n",
        "\n",
        "for line in read:\n",
        "  if line[-1] == '\\n':\n",
        "    modified.append(line[:-1])\n",
        "  else:\n",
        "    modified.append(line)\n",
        "\n",
        "\n",
        "for line in read:\n",
        "  if line not in modified:\n",
        "    modified.append(line.strip())\n",
        "\n",
        "\n",
        "for i in modified:\n",
        "  print(i)"
      ],
      "metadata": {
        "id": "ZmePOQ7zdCDa"
      },
      "execution_count": null,
      "outputs": []
    },
    {
      "cell_type": "code",
      "source": [
        "sent = open('/content/drive/MyDrive/llm/final/sent.txt', 'a')"
      ],
      "metadata": {
        "id": "HYCQM4OBifwO"
      },
      "execution_count": null,
      "outputs": []
    },
    {
      "cell_type": "code",
      "execution_count": null,
      "metadata": {
        "id": "j51mcrLD4Y2W",
        "outputId": "fbcbf3ec-eae4-4272-9dc9-1184bad68894",
        "colab": {
          "base_uri": "https://localhost:8080/",
          "height": 592
        }
      },
      "outputs": [
        {
          "output_type": "stream",
          "name": "stdout",
          "text": [
            "The old, dusty attic smelled of mothballs and forgotten dreams. Lily, a girl with pigtails as red as fire, poked around the cobwebs, her nose twitching. Her grandmother had passed away, leaving behind a house full of stories and treasures.\n",
            "\n",
            "Lily's eyes landed on a faded leather backpack tucked in a corner, its straps worn thin. Picking it up, she felt a strange tingling sensation in her fingertips. Inside, nestled among faded maps and dusty journals, lay a single, shimmering emerald button. \n",
            "\n",
            "“This is strange,” Lily muttered, her fingers tracing the intricate engravings on the button. As she touched it, a voice, soft as a summer breeze, whispered in her ear, \"Welcome, adventurer.\"\n",
            "\n",
            "Lily gasped, dropping the button. A whirlwind of dust swirled around her, and when it settled, the attic was gone. In its place, a lush green forest stretched before her. The air hummed with the buzz of insects and the chirping of unseen birds.\n",
            "\n",
            "“This is… amazing!” Lily exclaimed, her heart pounding. She realized the button was missing. Reaching into the backpack, she found it nestled against a faded map. On the map, a glowing red dot marked her current location.\n",
            "\n",
            "“This backpack is magic,” Lily whispered, her voice trembling with excitement. She slung it over her shoulder and set off, following the map towards a shimmering waterfall. The backpack, seemingly aware of her intent, began to rumble. It unzipped itself and out popped a pair of sturdy hiking boots, a waterproof jacket, and a sturdy water bottle. \n",
            "\n",
            "“Thank you!” Lily exclaimed, feeling a surge of confidence. She strapped on the boots, pulled on the jacket, and sipped from the bottle, feeling a wave of refreshment. As she walked, the backpack continued to surprise her. A compass appeared, guiding her through the dense forest. A flashlight illuminated her path as night fell. \n",
            "\n",
            "Lily discovered the waterfall led to a hidden cave, home to a wise old owl with eyes like golden coins. He told her of a hidden kingdom, a place of peace and magic, where the Emerald Button belonged. It was the key to unlocking the kingdom's gate, but it was guarded by a fearsome dragon, its scales as black as night. \n",
            "\n",
            "Lily felt a wave of trepidation. “But I’m just a girl!” she exclaimed, clutching the backpack tighter. \n",
            "\n",
            "The owl chuckled. “The backpack will guide you, child. It will give you what you need.”\n",
            "\n",
            "And so, Lily set off, the backpack providing her with everything she needed. A sturdy rope helped her climb a sheer cliff. A magical potion healed a gash on her arm. A fire starter, fueled by an unknown source, kept her warm at night. \n",
            "\n",
            "She faced the dragon, her heart pounding. But the backpack, sensing her fear, unzipped and produced a shimmering shield, repelling the dragon’s fiery breath. Lily, empowered by the backpack’s magic, bravely confronted the dragon. With the owl’s guidance and the backpack’s support, she managed to convince the dragon that her heart was pure, and she only sought to help. \n",
            "\n",
            "The dragon, touched by her courage, allowed her to reach the gate. Lily placed the Emerald Button on the gate, and with a shimmering light, it swung open, revealing the hidden kingdom. \n",
            "\n",
            "Lily spent days exploring the kingdom, learning about its magic and its people. She knew, however, that this was not her home. She would return to her own world, carrying the memories and lessons of her adventure with her. \n",
            "\n",
            "As she stood at the edge of the forest, ready to return to her own world, the backpack unzipped once more. A single, shimmering emerald button lay inside. \n",
            "\n",
            "“Thank you, backpack,” Lily whispered, a tear rolling down her cheek. She knew that the magic of the backpack, and the lessons she’d learned, would stay with her forever. \n",
            "\n"
          ]
        }
      ],
      "source": [
        "\n",
        "for i in modified\n",
        "  prompt = i\n",
        "  response = model.generate_content(\n",
        "  prompt,\n",
        "  safety_settings={\n",
        "  HarmCategory.HARM_CATEGORY_HATE_SPEECH: HarmBlockThreshold.BLOCK_NONE,\n",
        "  HarmCategory.HARM_CATEGORY_HARASSMENT: HarmBlockThreshold.BLOCK_NONE,\n",
        "  HarmCategory.HARM_CATEGORY_SEXUALLY_EXPLICIT:HarmBlockThreshold.BLOCK_NONE,\n",
        "  HarmCategory.HARM_CATEGORY_DANGEROUS_CONTENT:HarmBlockThreshold.BLOCK_NONE\n",
        "  }\n",
        "  )\n",
        "  a = response.text\n",
        "  print(a)\n",
        "  sent.write('\\n' + a)"
      ]
    },
    {
      "cell_type": "markdown",
      "metadata": {
        "id": "zUUAQS9u4biH"
      },
      "source": [
        "## What's next\n",
        "\n",
        "To learn more about working with the Gemini API, see the [Python tutorial](https://ai.google.dev/tutorials/python_quickstart).\n",
        "\n",
        "If you're new to generative AI models, you might want to look at the\n",
        "[concepts guide](https://ai.google.dev/docs/concepts) and the\n",
        "[Gemini API overview](https://ai.google.dev/docs/gemini_api_overview)."
      ]
    }
  ],
  "metadata": {
    "colab": {
      "provenance": [],
      "gpuType": "T4",
      "include_colab_link": true
    },
    "kernelspec": {
      "display_name": "Python 3",
      "name": "python3"
    },
    "accelerator": "GPU"
  },
  "nbformat": 4,
  "nbformat_minor": 0
}